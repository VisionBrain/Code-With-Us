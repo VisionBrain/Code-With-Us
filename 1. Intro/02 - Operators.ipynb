{
 "cells": [
  {
   "cell_type": "markdown",
   "metadata": {},
   "source": [
    "# Operators\n",
    "\n",
    "We have 3 types of operators\n",
    "- Arithmetic\n",
    "- Comparison\n",
    "- Logical\n",
    "\n",
    "[Source](https://www.tutorialspoint.com/python/python_basic_operators.htm)"
   ]
  },
  {
   "cell_type": "markdown",
   "metadata": {},
   "source": [
    "\n",
    "<table class=\"table table-bordered\">\n",
    "    <tbody>\n",
    "        <tr>\n",
    "            <th style=\"text-align:center;width:10%\">Operator</th>\n",
    "            <th style=\"text-align:center;width:10%\">Operation</th>\n",
    "            <th style=\"text-align:center;width:45%\">Description</th>\n",
    "            <th style=\"text-align:center;\">Example</th>\n",
    "        </tr>\n",
    "        <tr>\n",
    "            <td class=\"ts\">+</td>\n",
    "            <td class=\"ts\">Addition</td>\n",
    "            <td>Adds values on either side of the operator.</td>\n",
    "            <td class=\"ts\">a + b = 30</td>\n",
    "        </tr>\n",
    "        <tr>\n",
    "            <td class=\"ts\">-</td>\n",
    "            <td class=\"ts\">Subtraction</td>\n",
    "            <td>Subtracts right hand operand from left hand operand.</td>\n",
    "            <td class=\"ts\">a – b = -10</td>\n",
    "        </tr>\n",
    "        <tr>\n",
    "            <td class=\"ts\">*</td>\n",
    "            <td class=\"ts\">Multiplication</td>\n",
    "            <td>Multiplies values on either side of the operator</td>\n",
    "            <td class=\"ts\">a * b = 200</td>\n",
    "        </tr>\n",
    "        <tr>\n",
    "            <td class=\"ts\">/</td>\n",
    "            <td class=\"ts\">Division</td>\n",
    "            <td>Divides left hand operand by right hand operand</td>\n",
    "            <td class=\"ts\">b / a = 2</td>\n",
    "        </tr>\n",
    "        <tr>\n",
    "            <td class=\"ts\">%</td>\n",
    "            <td class=\"ts\">Modulus</td>\n",
    "            <td>Divides left hand operand by right hand operand and returns remainder</td>\n",
    "            <td class=\"ts\">b % a = 0</td>\n",
    "        </tr>\n",
    "        <tr>\n",
    "            <td class=\"ts\">**</td>\n",
    "            <td class=\"ts\">Exponent</td>\n",
    "            <td>Performs exponential (power) calculation on operators</td>\n",
    "            <td class=\"ts\">a**b =10 to the power 20</td>\n",
    "        </tr>\n",
    "        <tr>\n",
    "            <td class=\"ts\">//</td>\n",
    "            <td class=\"ts\">Floor Division</td>\n",
    "            <td>The division of operands where the result is the quotient in which the digits after the decimal point are removed. But if one of the operands is negative, the result is floored, i.e., rounded away from zero (towards negative infinity) −</td>\n",
    "            <td class=\"ts\">9//2 = 4 and 9.0//2.0 = 4.0, -11//3 = -4, -11.0//3 = -4.0</td>\n",
    "        </tr>\n",
    "    </tbody>\n",
    "</table>\n"
   ]
  },
  {
   "cell_type": "code",
   "execution_count": 5,
   "metadata": {},
   "outputs": [
    {
     "name": "stdout",
     "output_type": "stream",
     "text": [
      "3\n",
      "12\n",
      "11\n",
      "Hello World\n"
     ]
    }
   ],
   "source": [
    "# Addition\n",
    "a = 1\n",
    "b = 2 \n",
    "print(a + b) \n",
    "c = 10\n",
    "d = 2\n",
    "print(c+d)\n",
    "\n",
    "# Concatenation \n",
    "a = '1'\n",
    "b = '1'\n",
    "print(a + b)\n",
    "c = 'Hello '\n",
    "d = 'World'\n",
    "print(c+d)"
   ]
  },
  {
   "cell_type": "code",
   "execution_count": 8,
   "metadata": {},
   "outputs": [
    {
     "name": "stdout",
     "output_type": "stream",
     "text": [
      "-1\n"
     ]
    }
   ],
   "source": [
    "# Subtraction\n",
    "a = 1 \n",
    "b = 2\n",
    "print(a-b)\n",
    "\n",
    "# print('1' - '2') # Error - you can't do this\n"
   ]
  },
  {
   "cell_type": "code",
   "execution_count": 9,
   "metadata": {},
   "outputs": [
    {
     "name": "stdout",
     "output_type": "stream",
     "text": [
      "1\n"
     ]
    }
   ],
   "source": [
    "# Multiplication\n",
    "a = 1 \n",
    "b = 1\n",
    "print(a*b)\n",
    "\n",
    "# c = '2'\n",
    "# d = '3'\n",
    "# print(c*d) # Error - You can't do this "
   ]
  },
  {
   "cell_type": "code",
   "execution_count": 12,
   "metadata": {},
   "outputs": [
    {
     "name": "stdout",
     "output_type": "stream",
     "text": [
      "0.5\n"
     ]
    }
   ],
   "source": [
    "# Division\n",
    "\n",
    "a = 1 \n",
    "b = 2\n",
    "print(a/b)\n",
    "\n",
    "# c = '2'\n",
    "# d = '2'\n",
    "# print(c/d) # Error - You can't do this"
   ]
  },
  {
   "cell_type": "code",
   "execution_count": 11,
   "metadata": {},
   "outputs": [
    {
     "name": "stdout",
     "output_type": "stream",
     "text": [
      "0\n",
      "1\n"
     ]
    }
   ],
   "source": [
    "# Modulus \n",
    "\n",
    "a = 10\n",
    "b = 2 \n",
    "c = 3\n",
    "print(a%b) # Remainder is 0\n",
    "print(a%c) # Remainder is 1"
   ]
  },
  {
   "cell_type": "code",
   "execution_count": 13,
   "metadata": {},
   "outputs": [
    {
     "name": "stdout",
     "output_type": "stream",
     "text": [
      "16\n"
     ]
    }
   ],
   "source": [
    "# Exponent\n",
    "a = 2\n",
    "b = 4\n",
    "print(a**b)"
   ]
  },
  {
   "cell_type": "code",
   "execution_count": 14,
   "metadata": {},
   "outputs": [
    {
     "name": "stdout",
     "output_type": "stream",
     "text": [
      "1\n"
     ]
    }
   ],
   "source": [
    "# Floor Division\n",
    "a = 4\n",
    "b = 3\n",
    "print(a//b)"
   ]
  },
  {
   "cell_type": "markdown",
   "metadata": {},
   "source": [
    "<table class=\"table table-bordered\">\n",
    "<tbody><tr>\n",
    "<th style=\"text-align:center;width:10%\">Operator</th>\n",
    "<th style=\"text-align:center;width:45%\">Description</th>\n",
    "<th style=\"text-align:center;\">Example</th>\n",
    "</tr>\n",
    "<tr>\n",
    "<td class=\"ts\">==</td>\n",
    "<td>If the values of two operands are equal, then the condition becomes true.</td>\n",
    "<td class=\"ts\">(a == b) is not true.</td>\n",
    "</tr>\n",
    "<tr>\n",
    "<td class=\"ts\">!=</td>\n",
    "<td>If values of two operands are not equal, then condition becomes true.</td>\n",
    "<td class=\"ts\">(a != b) is true.</td>\n",
    "</tr>\n",
    "<tr>\n",
    "<td class=\"ts\">&lt;&gt;</td>\n",
    "<td>If values of two operands are not equal, then condition becomes true.</td>\n",
    "<td class=\"ts\">(a &lt;&gt; b) is true. This is similar to != operator.</td>\n",
    "</tr>\n",
    "<tr>\n",
    "<td class=\"ts\">&gt;</td>\n",
    "<td>If the value of left operand is greater than the value of right operand, then condition becomes true.</td>\n",
    "<td class=\"ts\">(a &gt; b) is not true.</td>\n",
    "</tr>\n",
    "<tr>\n",
    "<td class=\"ts\">&lt;</td>\n",
    "<td>If the value of left operand is less than the value of right operand, then condition becomes true.</td>\n",
    "<td class=\"ts\">(a &lt; b) is true.</td>\n",
    "</tr>\n",
    "<tr>\n",
    "<td class=\"ts\">&gt;=</td>\n",
    "<td>If the value of left operand is greater than or equal to the value of right operand, then condition becomes true.</td>\n",
    "<td class=\"ts\">(a &gt;= b) is not true.</td>\n",
    "</tr>\n",
    "<tr>\n",
    "<td class=\"ts\">&lt;=</td>\n",
    "<td>If the value of left operand is less than or equal to the value of right operand, then condition becomes true.</td>\n",
    "<td class=\"ts\">(a &lt;= b) is true.</td>\n",
    "</tr>\n",
    "</tbody></table>"
   ]
  },
  {
   "cell_type": "code",
   "execution_count": 16,
   "metadata": {},
   "outputs": [
    {
     "name": "stdout",
     "output_type": "stream",
     "text": [
      "False\n",
      "True\n",
      "True\n",
      "False\n",
      "True\n",
      "False\n"
     ]
    }
   ],
   "source": [
    "a = 5\n",
    "b = 3\n",
    "\n",
    "print(a == b)\n",
    "print(a != b)\n",
    "# print(a <> b)\n",
    "print(a > b)\n",
    "print(a < b)\n",
    "print(a >= b)\n",
    "print(a <= b)"
   ]
  },
  {
   "cell_type": "markdown",
   "metadata": {},
   "source": [
    "<table class=\"table table-bordered\">\n",
    "<tbody><tr>\n",
    "<th style=\"text-align:center;width:10%\">Operator</th>\n",
    "<th style=\"text-align:center;width:45%\">Description</th>\n",
    "<th style=\"text-align:center;\">Example</th>\n",
    "</tr>\n",
    "<tr>\n",
    "<td class=\"ts\">=</td>\n",
    "<td>Assigns values from right side operands to left side operand</td>\n",
    "<td style=\"vertical-align:middle;\">c = a + b assigns value of a + b into c</td>\n",
    "</tr>\n",
    "<tr>\n",
    "<td class=\"ts\">+= Add AND</td>\n",
    "<td>It adds right operand to the left operand and assign the result to left operand</td>\n",
    "<td style=\"vertical-align:middle;\">c += a is equivalent to c = c + a</td>\n",
    "</tr>\n",
    "<tr>\n",
    "<td class=\"ts\">-= Subtract AND</td>\n",
    "<td>It subtracts right operand from the left operand and assign the result to left operand</td>\n",
    "<td style=\"vertical-align:middle;\">c -= a is equivalent to c = c - a</td>\n",
    "</tr>\n",
    "<tr>\n",
    "<td class=\"ts\">*= Multiply AND</td>\n",
    "<td>It multiplies right operand with the left operand and assign the result to left operand</td>\n",
    "<td style=\"vertical-align:middle;\">c *= a is equivalent to c = c * a</td>\n",
    "</tr>\n",
    "<tr>\n",
    "<td class=\"ts\">/= Divide AND</td>\n",
    "<td>It divides left operand with the right operand and assign the result to left operand</td>\n",
    "<td style=\"vertical-align:middle;\">c /= a is equivalent to c = c / a\n",
    "</td>\n",
    "</tr>\n",
    "<tr>\n",
    "<td class=\"ts\">%= Modulus AND</td>\n",
    "<td>It takes modulus using two operands and assign the result to left operand</td>\n",
    "<td style=\"vertical-align:middle;\">c %= a is equivalent to c = c % a</td>\n",
    "</tr>\n",
    "<tr>\n",
    "<td class=\"ts\">**= Exponent AND</td>\n",
    "<td>Performs exponential (power) calculation on operators and assign value to the left operand</td>\n",
    "<td style=\"vertical-align:middle;\">c **= a is equivalent to c = c ** a</td>\n",
    "</tr>\n",
    "<tr>\n",
    "<td class=\"ts\">//= Floor Division</td>\n",
    "<td>It performs floor division on operators and assign value to the left operand</td>\n",
    "<td style=\"vertical-align:middle;\">c //= a is equivalent to c = c // a</td>\n",
    "</tr>\n",
    "</tbody></table>"
   ]
  },
  {
   "cell_type": "code",
   "execution_count": 19,
   "metadata": {},
   "outputs": [
    {
     "name": "stdout",
     "output_type": "stream",
     "text": [
      "2\n",
      "3\n",
      "4\n",
      "1\n",
      "2\n",
      "1.0\n",
      "0\n",
      "4\n",
      "2\n"
     ]
    }
   ],
   "source": [
    "a = 2\n",
    "b = 2\n",
    "c = 10\n",
    "print(a)\n",
    "a = 3\n",
    "print(a)\n",
    "a +=1\n",
    "print(a)\n",
    "b -= 1\n",
    "print(b)\n",
    "b *= 2\n",
    "print(b)\n",
    "b /= 2\n",
    "print(b)\n",
    "c %= 2\n",
    "print(c)\n",
    "c +=2\n",
    "c **=2\n",
    "print(c)\n",
    "c //=2\n",
    "print(c)"
   ]
  },
  {
   "cell_type": "markdown",
   "metadata": {},
   "source": [
    "<table class=\"table table-bordered\">\n",
    "<tbody><tr>\n",
    "<th style=\"text-align:center;width:10%\">Operator</th>\n",
    "<th style=\"text-align:center;width:45%\">Description</th>\n",
    "<th style=\"text-align:center;\">Example</th>\n",
    "</tr>\n",
    "<tr>\n",
    "<td>and Logical AND</td>\n",
    "<td class=\"ts\">If both the operands are true then condition becomes true.</td>\n",
    "<td class=\"ts\">(a and b) is true.</td>\n",
    "</tr>\n",
    "<tr>\n",
    "<td>or Logical OR</td>\n",
    "<td class=\"ts\">If any of the two operands are non-zero then condition becomes true.</td>\n",
    "<td class=\"ts\">(a or b) is true.</td>\n",
    "</tr>\n",
    "<tr>\n",
    "<td>not Logical NOT</td>\n",
    "<td class=\"ts\">Used to reverse the logical state of its operand.</td>\n",
    "<td class=\"ts\">Not(a and b) is false.</td>\n",
    "</tr>\n",
    "</tbody></table>"
   ]
  },
  {
   "cell_type": "code",
   "execution_count": 22,
   "metadata": {},
   "outputs": [
    {
     "name": "stdout",
     "output_type": "stream",
     "text": [
      "False\n",
      "True\n",
      "True\n"
     ]
    }
   ],
   "source": [
    "a = False\n",
    "b = True\n",
    "print(a and b)\n",
    "print(a or b)\n",
    "print(not(a))"
   ]
  },
  {
   "cell_type": "markdown",
   "metadata": {},
   "source": [
    "<table class=\"table table-bordered\">\n",
    "<tbody><tr>\n",
    "<th style=\"text-align:center;width:10%\">Operator</th>\n",
    "<th style=\"text-align:center;width:45%\">Description</th>\n",
    "<th style=\"text-align:center;\">Example</th>\n",
    "</tr>\n",
    "<tr>\n",
    "<td class=\"ts\">in</td>\n",
    "<td>Evaluates to true if it finds a variable in the specified sequence and false otherwise.</td>\n",
    "<td style=\"vertical-align:middle;\">x in y, here in results in a 1 if x is a member of sequence y.</td>\n",
    "</tr>\n",
    "<tr>\n",
    "<td class=\"ts\">not in</td>\n",
    "<td>Evaluates to true if it does not finds a variable in the specified sequence and false otherwise.</td>\n",
    "<td>x not in y, here not in results in a 1 if x is not a member of sequence y.</td>\n",
    "</tr>\n",
    "</tbody></table>"
   ]
  },
  {
   "cell_type": "code",
   "execution_count": 24,
   "metadata": {},
   "outputs": [
    {
     "name": "stdout",
     "output_type": "stream",
     "text": [
      "True\n",
      "True\n"
     ]
    }
   ],
   "source": [
    "a = 'h'\n",
    "b = 'hello'\n",
    "c = 'world'\n",
    "print(a in b)\n",
    "print(a not in c)"
   ]
  },
  {
   "cell_type": "code",
   "execution_count": null,
   "metadata": {},
   "outputs": [],
   "source": []
  }
 ],
 "metadata": {
  "kernelspec": {
   "display_name": "Python 3",
   "language": "python",
   "name": "python3"
  },
  "language_info": {
   "codemirror_mode": {
    "name": "ipython",
    "version": 3
   },
   "file_extension": ".py",
   "mimetype": "text/x-python",
   "name": "python",
   "nbconvert_exporter": "python",
   "pygments_lexer": "ipython3",
   "version": "3.7.4"
  }
 },
 "nbformat": 4,
 "nbformat_minor": 2
}
