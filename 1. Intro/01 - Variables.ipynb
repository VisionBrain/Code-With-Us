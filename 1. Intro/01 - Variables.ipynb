{
 "cells": [
  {
   "cell_type": "markdown",
   "metadata": {},
   "source": [
    "# Say Hello"
   ]
  },
  {
   "cell_type": "code",
   "execution_count": 1,
   "metadata": {},
   "outputs": [
    {
     "name": "stdout",
     "output_type": "stream",
     "text": [
      "Hello this is a msg\n"
     ]
    }
   ],
   "source": [
    "# Show msg \n",
    "\n",
    "print('Hello this is a msg') # Or Hello World\n"
   ]
  },
  {
   "cell_type": "markdown",
   "metadata": {},
   "source": [
    "## Variables\n",
    "\n",
    "What is a variable?\n",
    "\n",
    "Variables are like a boxes where you can store something in this case **Data** into PC memory. And these boxes can have names like:\n",
    "- variable1 \n",
    "- variable2 \n",
    "- first_variable\n",
    "- second_variable\n",
    "- first_text \n",
    "- second_text\n",
    "- this_is_not_a_variable\n",
    "- etc.\n",
    "\n",
    "<img src=\"https://media.giphy.com/media/vG1Dgq3JRXLMc/giphy.gif\">"
   ]
  },
  {
   "cell_type": "markdown",
   "metadata": {},
   "source": [
    "These data can have multiple types, some of them are:"
   ]
  },
  {
   "cell_type": "markdown",
   "metadata": {},
   "source": [
    "### str - **String** (short or long text, letters, everything you can write like text, including numbers)\n",
    "    "
   ]
  },
  {
   "cell_type": "code",
   "execution_count": 2,
   "metadata": {},
   "outputs": [],
   "source": [
    "x = \"Hello\""
   ]
  },
  {
   "cell_type": "code",
   "execution_count": 3,
   "metadata": {},
   "outputs": [
    {
     "name": "stdout",
     "output_type": "stream",
     "text": [
      "Hello\n"
     ]
    }
   ],
   "source": [
    "print(x) # You can print the content of a variable with print"
   ]
  },
  {
   "cell_type": "code",
   "execution_count": 4,
   "metadata": {},
   "outputs": [],
   "source": [
    "y = \"World\""
   ]
  },
  {
   "cell_type": "code",
   "execution_count": 5,
   "metadata": {},
   "outputs": [
    {
     "name": "stdout",
     "output_type": "stream",
     "text": [
      "World\n"
     ]
    }
   ],
   "source": [
    "print(y)"
   ]
  },
  {
   "cell_type": "code",
   "execution_count": 6,
   "metadata": {},
   "outputs": [
    {
     "name": "stdout",
     "output_type": "stream",
     "text": [
      "This is an example of long long long long long text and if i want i can write more\n"
     ]
    }
   ],
   "source": [
    "z = 'This is an example of long long long long long text and if i want i can write more'\n",
    "print(z)"
   ]
  },
  {
   "cell_type": "code",
   "execution_count": 7,
   "metadata": {},
   "outputs": [
    {
     "name": "stdout",
     "output_type": "stream",
     "text": [
      "short text\n"
     ]
    }
   ],
   "source": [
    "z2 = 'short text'\n",
    "print(z2)"
   ]
  },
  {
   "cell_type": "code",
   "execution_count": 8,
   "metadata": {},
   "outputs": [
    {
     "name": "stdout",
     "output_type": "stream",
     "text": [
      "this is an example with variables\n"
     ]
    }
   ],
   "source": [
    "this_is_a_text = 'this is an example with variables'\n",
    "print(this_is_a_text)"
   ]
  },
  {
   "cell_type": "code",
   "execution_count": 9,
   "metadata": {},
   "outputs": [
    {
     "name": "stdout",
     "output_type": "stream",
     "text": [
      "10\n",
      "True\n"
     ]
    }
   ],
   "source": [
    "x = '10' # you can use numbers like a text\n",
    "b = 'True' # boolean like a text\n",
    "\n",
    "print(x)\n",
    "print(b)"
   ]
  },
  {
   "cell_type": "markdown",
   "metadata": {},
   "source": [
    "### int - **Integer** (Numbers can be an integer or float)"
   ]
  },
  {
   "cell_type": "code",
   "execution_count": 10,
   "metadata": {},
   "outputs": [
    {
     "name": "stdout",
     "output_type": "stream",
     "text": [
      "1 2 3 4.5 5.5\n"
     ]
    }
   ],
   "source": [
    "a = 1\n",
    "b = 2\n",
    "c = 3\n",
    "d = 4.5\n",
    "e = 5.5\n",
    "\n",
    "print(a,b,c,d,e)"
   ]
  },
  {
   "cell_type": "markdown",
   "metadata": {},
   "source": [
    "### bool - **Boolean** (binary option True(1) or False(0) )"
   ]
  },
  {
   "cell_type": "code",
   "execution_count": 11,
   "metadata": {},
   "outputs": [
    {
     "name": "stdout",
     "output_type": "stream",
     "text": [
      "True\n",
      "False\n"
     ]
    }
   ],
   "source": [
    "bool1 = True\n",
    "bool2 = False\n",
    "\n",
    "print(bool1)\n",
    "print(bool2)"
   ]
  },
  {
   "cell_type": "markdown",
   "metadata": {},
   "source": [
    "### How to know which variable type is"
   ]
  },
  {
   "cell_type": "code",
   "execution_count": 12,
   "metadata": {},
   "outputs": [
    {
     "data": {
      "text/plain": [
       "str"
      ]
     },
     "execution_count": 12,
     "metadata": {},
     "output_type": "execute_result"
    }
   ],
   "source": [
    "# Type function\n",
    "a = 'text'\n",
    "type(a)"
   ]
  },
  {
   "cell_type": "code",
   "execution_count": 13,
   "metadata": {},
   "outputs": [
    {
     "data": {
      "text/plain": [
       "int"
      ]
     },
     "execution_count": 13,
     "metadata": {},
     "output_type": "execute_result"
    }
   ],
   "source": [
    "b = 123\n",
    "type(b)"
   ]
  },
  {
   "cell_type": "code",
   "execution_count": 14,
   "metadata": {},
   "outputs": [
    {
     "data": {
      "text/plain": [
       "bool"
      ]
     },
     "execution_count": 14,
     "metadata": {},
     "output_type": "execute_result"
    }
   ],
   "source": [
    "c = True\n",
    "type(c)"
   ]
  },
  {
   "cell_type": "markdown",
   "metadata": {},
   "source": [
    "### How to convert variables\n",
    "\n",
    "in many programming languages are something that we called \"Casting\" and helps us to convert a variable type to other type \n",
    "<br>\n",
    "we can transform almost all variables in some cases we can't\n",
    "\n",
    "<img src=\"https://web.mit.edu/manoli/morph/www/examples/sphere_cubes.gif\">"
   ]
  },
  {
   "cell_type": "code",
   "execution_count": 15,
   "metadata": {},
   "outputs": [
    {
     "name": "stdout",
     "output_type": "stream",
     "text": [
      "Before:  1 <class 'str'>\n",
      "After:  1 <class 'int'>\n"
     ]
    }
   ],
   "source": [
    "a = '1'\n",
    "print('Before: ', a, type(a))\n",
    "a = int(a)\n",
    "print('After: ', a, type(a))"
   ]
  },
  {
   "cell_type": "code",
   "execution_count": 16,
   "metadata": {},
   "outputs": [
    {
     "name": "stdout",
     "output_type": "stream",
     "text": [
      "Before:  1 <class 'str'>\n",
      "After:  True <class 'bool'>\n"
     ]
    }
   ],
   "source": [
    "a = '1'\n",
    "print('Before: ', a, type(a))\n",
    "a = bool(a)\n",
    "print('After: ', a, type(a))"
   ]
  },
  {
   "cell_type": "code",
   "execution_count": 17,
   "metadata": {},
   "outputs": [
    {
     "name": "stdout",
     "output_type": "stream",
     "text": [
      "Before:  1 <class 'int'>\n",
      "After:  1 <class 'str'>\n"
     ]
    }
   ],
   "source": [
    "a = 1\n",
    "print('Before: ', a, type(a))\n",
    "a = str(a)\n",
    "print('After: ', a, type(a))"
   ]
  },
  {
   "cell_type": "code",
   "execution_count": 18,
   "metadata": {},
   "outputs": [
    {
     "name": "stdout",
     "output_type": "stream",
     "text": [
      "Before:  False <class 'bool'>\n",
      "After:  False <class 'str'>\n"
     ]
    }
   ],
   "source": [
    "a = False\n",
    "print('Before: ', a, type(a))\n",
    "a = str(a)\n",
    "print('After: ', a, type(a))"
   ]
  },
  {
   "cell_type": "markdown",
   "metadata": {},
   "source": [
    "### Types of variables names writing (that Python supports)"
   ]
  },
  {
   "cell_type": "code",
   "execution_count": 19,
   "metadata": {},
   "outputs": [],
   "source": [
    "# Capital Case - First letter are capital\n",
    "\n",
    "Thisisavariable = 123 \n",
    "Capitalcase = '123'\n",
    "Yourvariable = 'False'\n",
    "\n",
    "# Pascal Case - Each First letter of a word are capital\n",
    "\n",
    "ThisIsAVariable = 'text' \n",
    "PascalCase = \"asdf\"\n",
    "YourVariable = \"True variable\"\n",
    "\n",
    "# Snake Case - each word separate by underscore\n",
    "\n",
    "this_is_a_variable = False  \n",
    "snake_case = 12345\n",
    "your_variable = 6789\n",
    "\n",
    "\n",
    "# Camel Case - First letter of the first word is lowercase, but the rest of words starts with capital \n",
    "\n",
    "thisIsAVariable = '123Text' \n",
    "camelCase = 'Example'\n",
    "yourVariable = 'Example2'"
   ]
  },
  {
   "cell_type": "code",
   "execution_count": null,
   "metadata": {},
   "outputs": [],
   "source": []
  }
 ],
 "metadata": {
  "kernelspec": {
   "display_name": "Python 3",
   "language": "python",
   "name": "python3"
  },
  "language_info": {
   "codemirror_mode": {
    "name": "ipython",
    "version": 3
   },
   "file_extension": ".py",
   "mimetype": "text/x-python",
   "name": "python",
   "nbconvert_exporter": "python",
   "pygments_lexer": "ipython3",
   "version": "3.7.4"
  }
 },
 "nbformat": 4,
 "nbformat_minor": 2
}
