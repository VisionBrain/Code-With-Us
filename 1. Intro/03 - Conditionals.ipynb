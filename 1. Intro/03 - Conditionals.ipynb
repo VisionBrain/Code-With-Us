{
 "cells": [
  {
   "cell_type": "markdown",
   "metadata": {},
   "source": [
    "# Conditionals\n",
    "\n",
    "Psuedo code:\n",
    "\n",
    "<code>\n",
    "    \n",
    "if condition == True:\n",
    "    -> Do this / execute this block\n",
    "if not:\n",
    "    -> Do this / execute this block\n",
    "    \n",
    "</code>"
   ]
  },
  {
   "cell_type": "code",
   "execution_count": 1,
   "metadata": {},
   "outputs": [
    {
     "name": "stdout",
     "output_type": "stream",
     "text": [
      "Hello\n"
     ]
    }
   ],
   "source": [
    "a = True\n",
    "\n",
    "if a: # This condition is true so we execute the block\n",
    "    print('Hello')"
   ]
  },
  {
   "cell_type": "code",
   "execution_count": 4,
   "metadata": {},
   "outputs": [
    {
     "name": "stdout",
     "output_type": "stream",
     "text": [
      "World\n"
     ]
    }
   ],
   "source": [
    "a = False\n",
    "if a: # This condition is false so we execute else(if not)\n",
    "    print('Hello')\n",
    "else:\n",
    "    print('World')"
   ]
  },
  {
   "cell_type": "code",
   "execution_count": 5,
   "metadata": {},
   "outputs": [
    {
     "name": "stdout",
     "output_type": "stream",
     "text": [
      "Do this\n"
     ]
    }
   ],
   "source": [
    "a = 1 \n",
    "b = 1 \n",
    "\n",
    "if a == b: # this condition is true\n",
    "    print('Do this')\n",
    "else:\n",
    "    print('Do this other')"
   ]
  },
  {
   "cell_type": "code",
   "execution_count": 6,
   "metadata": {},
   "outputs": [
    {
     "name": "stdout",
     "output_type": "stream",
     "text": [
      "Hello from nested condition\n"
     ]
    }
   ],
   "source": [
    "# you can use nested conditions\n",
    "\n",
    "a = 1 \n",
    "b = 1\n",
    "c = 2\n",
    "\n",
    "if a == b : # This is true\n",
    "    if (a+b) == c: # This is true\n",
    "        print('Hello from nested condition')\n",
    "    else:\n",
    "        print('Condition is false')\n",
    "else:\n",
    "    print('Condition is false')"
   ]
  },
  {
   "cell_type": "code",
   "execution_count": null,
   "metadata": {},
   "outputs": [],
   "source": []
  }
 ],
 "metadata": {
  "kernelspec": {
   "display_name": "Python 3",
   "language": "python",
   "name": "python3"
  },
  "language_info": {
   "codemirror_mode": {
    "name": "ipython",
    "version": 3
   },
   "file_extension": ".py",
   "mimetype": "text/x-python",
   "name": "python",
   "nbconvert_exporter": "python",
   "pygments_lexer": "ipython3",
   "version": "3.7.4"
  }
 },
 "nbformat": 4,
 "nbformat_minor": 2
}
