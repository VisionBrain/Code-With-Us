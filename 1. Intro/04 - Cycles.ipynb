{
 "cells": [
  {
   "cell_type": "markdown",
   "metadata": {},
   "source": [
    "# Cycles\n",
    "\n",
    "<code>\n",
    "\n",
    "    cycle:\n",
    "        do this until the cycle ends\n",
    "\n",
    "</code>"
   ]
  },
  {
   "cell_type": "code",
   "execution_count": 1,
   "metadata": {},
   "outputs": [
    {
     "name": "stdout",
     "output_type": "stream",
     "text": [
      "0\n",
      "1\n",
      "2\n",
      "3\n",
      "4\n",
      "5\n",
      "6\n",
      "7\n",
      "8\n",
      "9\n"
     ]
    }
   ],
   "source": [
    "## For \n",
    "'''\n",
    "\n",
    " for variable in range:\n",
    "     do this until the end of range\n",
    "\n",
    "\n",
    "function range:\n",
    "     range(from, to)\n",
    "'''\n",
    "\n",
    "# do step by step until end \n",
    "\n",
    "for i in range(10): # numbers from 0 to 9\n",
    "    print(i)\n"
   ]
  },
  {
   "cell_type": "code",
   "execution_count": 2,
   "metadata": {},
   "outputs": [
    {
     "name": "stdout",
     "output_type": "stream",
     "text": [
      "1\n",
      "2\n",
      "3\n",
      "4\n",
      "5\n",
      "6\n",
      "7\n",
      "8\n",
      "9\n"
     ]
    }
   ],
   "source": [
    "## while\n",
    "\n",
    "'''\n",
    "    # 1. Condition\n",
    "    # 2. Execution\n",
    "    \n",
    "    # 1. while condition:\n",
    "    # 2.    do this until the condition is true\n",
    "\n",
    "'''\n",
    "a = 1\n",
    "b = 10\n",
    "while a < b:\n",
    "    print(a)\n",
    "    a += 1"
   ]
  },
  {
   "cell_type": "code",
   "execution_count": null,
   "metadata": {},
   "outputs": [],
   "source": []
  }
 ],
 "metadata": {
  "kernelspec": {
   "display_name": "Python 3",
   "language": "python",
   "name": "python3"
  },
  "language_info": {
   "codemirror_mode": {
    "name": "ipython",
    "version": 3
   },
   "file_extension": ".py",
   "mimetype": "text/x-python",
   "name": "python",
   "nbconvert_exporter": "python",
   "pygments_lexer": "ipython3",
   "version": "3.7.4"
  }
 },
 "nbformat": 4,
 "nbformat_minor": 2
}
